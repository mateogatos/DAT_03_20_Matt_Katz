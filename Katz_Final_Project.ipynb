{
 "cells": [
  {
   "cell_type": "code",
   "execution_count": 1,
   "metadata": {
    "collapsed": true
   },
   "outputs": [],
   "source": [
    "import pandas as pd\n",
    "import numpy as np\n",
    "import matplotlib as plt\n",
    "import seaborn as sns\n",
    "import statsmodels.api as sm\n",
    "from sklearn.metrics import roc_curve, roc_auc_score\n",
    "from sklearn.linear_model import LogisticRegression\n",
    "from sklearn.linear_model import Ra\n",
    "from IPython.core.pylabtools import figsize\n",
    "figsize(11, 9)\n",
    "%matplotlib inline\n"
   ]
  },
  {
   "cell_type": "code",
   "execution_count": 177,
   "metadata": {
    "collapsed": false
   },
   "outputs": [],
   "source": [
    "df = pd.read_csv('/Users/MattKatz/Coding/GA/DAT-2017-03-20/DAT_03_20_Matt_Katz/Final_Project/Data/loan.csv', low_memory=False)"
   ]
  },
  {
   "cell_type": "markdown",
   "metadata": {},
   "source": [
    "# Section 1: describing the dataset"
   ]
  },
  {
   "cell_type": "code",
   "execution_count": 196,
   "metadata": {
    "collapsed": false
   },
   "outputs": [
    {
     "name": "stdout",
     "output_type": "stream",
     "text": [
      "<class 'pandas.core.frame.DataFrame'>\n",
      "RangeIndex: 887379 entries, 0 to 887378\n",
      "Data columns (total 74 columns):\n",
      "id                             887379 non-null int64\n",
      "member_id                      887379 non-null int64\n",
      "loan_amnt                      887379 non-null float64\n",
      "funded_amnt                    887379 non-null float64\n",
      "funded_amnt_inv                887379 non-null float64\n",
      "term                           887379 non-null object\n",
      "int_rate                       887379 non-null float64\n",
      "installment                    887379 non-null float64\n",
      "grade                          887379 non-null object\n",
      "sub_grade                      887379 non-null object\n",
      "emp_title                      835922 non-null object\n",
      "emp_length                     887379 non-null object\n",
      "home_ownership                 887379 non-null object\n",
      "annual_inc                     887375 non-null float64\n",
      "verification_status            887379 non-null object\n",
      "issue_d                        887379 non-null object\n",
      "loan_status                    887379 non-null object\n",
      "pymnt_plan                     887379 non-null object\n",
      "url                            887379 non-null object\n",
      "desc                           126029 non-null object\n",
      "purpose                        887379 non-null object\n",
      "title                          887228 non-null object\n",
      "zip_code                       887379 non-null object\n",
      "addr_state                     887379 non-null object\n",
      "dti                            887379 non-null float64\n",
      "delinq_2yrs                    887350 non-null float64\n",
      "earliest_cr_line               887350 non-null object\n",
      "inq_last_6mths                 887350 non-null float64\n",
      "mths_since_last_delinq         433067 non-null float64\n",
      "mths_since_last_record         137053 non-null float64\n",
      "open_acc                       887350 non-null float64\n",
      "pub_rec                        887350 non-null float64\n",
      "revol_bal                      887379 non-null float64\n",
      "revol_util                     886877 non-null float64\n",
      "total_acc                      887350 non-null float64\n",
      "initial_list_status            887379 non-null object\n",
      "out_prncp                      887379 non-null float64\n",
      "out_prncp_inv                  887379 non-null float64\n",
      "total_pymnt                    887379 non-null float64\n",
      "total_pymnt_inv                887379 non-null float64\n",
      "total_rec_prncp                887379 non-null float64\n",
      "total_rec_int                  887379 non-null float64\n",
      "total_rec_late_fee             887379 non-null float64\n",
      "recoveries                     887379 non-null float64\n",
      "collection_recovery_fee        887379 non-null float64\n",
      "last_pymnt_d                   869720 non-null object\n",
      "last_pymnt_amnt                887379 non-null float64\n",
      "next_pymnt_d                   634408 non-null object\n",
      "last_credit_pull_d             887326 non-null object\n",
      "collections_12_mths_ex_med     887234 non-null float64\n",
      "mths_since_last_major_derog    221703 non-null float64\n",
      "policy_code                    887379 non-null float64\n",
      "application_type               887379 non-null object\n",
      "annual_inc_joint               511 non-null float64\n",
      "dti_joint                      509 non-null float64\n",
      "verification_status_joint      511 non-null object\n",
      "acc_now_delinq                 887350 non-null float64\n",
      "tot_coll_amt                   817103 non-null float64\n",
      "tot_cur_bal                    817103 non-null float64\n",
      "open_acc_6m                    21372 non-null float64\n",
      "open_il_6m                     21372 non-null float64\n",
      "open_il_12m                    21372 non-null float64\n",
      "open_il_24m                    21372 non-null float64\n",
      "mths_since_rcnt_il             20810 non-null float64\n",
      "total_bal_il                   21372 non-null float64\n",
      "il_util                        18617 non-null float64\n",
      "open_rv_12m                    21372 non-null float64\n",
      "open_rv_24m                    21372 non-null float64\n",
      "max_bal_bc                     21372 non-null float64\n",
      "all_util                       21372 non-null float64\n",
      "total_rev_hi_lim               817103 non-null float64\n",
      "inq_fi                         21372 non-null float64\n",
      "total_cu_tl                    21372 non-null float64\n",
      "inq_last_12m                   21372 non-null float64\n",
      "dtypes: float64(49), int64(2), object(23)\n",
      "memory usage: 501.0+ MB\n"
     ]
    }
   ],
   "source": [
    "df2.info()"
   ]
  },
  {
   "cell_type": "code",
   "execution_count": 3,
   "metadata": {
    "collapsed": false
   },
   "outputs": [],
   "source": [
    "columns_to_drop = ['member_id', 'funded_amnt_inv',\n",
    "       'emp_title',\n",
    "       'verification_status',\n",
    "       'issue_d', 'pymnt_plan', 'url', 'desc', \n",
    "       'title', 'zip_code', 'delinq_2yrs',\n",
    "       'earliest_cr_line', 'inq_last_6mths', 'mths_since_last_delinq',\n",
    "       'mths_since_last_record', 'open_acc', 'pub_rec', 'total_acc', 'initial_list_status', \n",
    "       'out_prncp_inv',  'total_pymnt_inv', \n",
    "       'total_rec_int', 'total_rec_late_fee', 'recoveries', 'total_rec_prncp',\n",
    "       'collection_recovery_fee', 'last_pymnt_d', 'last_pymnt_amnt',\n",
    "       'next_pymnt_d', 'last_credit_pull_d', 'collections_12_mths_ex_med',\n",
    "       'mths_since_last_major_derog', 'policy_code', \n",
    "        'verification_status_joint', 'home_ownership', 'revol_bal',\n",
    "       'acc_now_delinq', 'tot_coll_amt',  'open_acc_6m', 'revol_util',\n",
    "       'open_il_6m', 'open_il_12m', 'open_il_24m', 'mths_since_rcnt_il',\n",
    "       'total_bal_il', 'il_util', 'open_rv_12m', 'open_rv_24m', 'max_bal_bc',\n",
    "       'all_util', 'total_rev_hi_lim', 'inq_fi', 'total_cu_tl',\n",
    "       'inq_last_12m']\n",
    "\n",
    "\n",
    "df.drop(columns_to_drop, axis=1, inplace=True)"
   ]
  },
  {
   "cell_type": "code",
   "execution_count": 209,
   "metadata": {
    "collapsed": false
   },
   "outputs": [
    {
     "name": "stdout",
     "output_type": "stream",
     "text": [
      "<class 'pandas.core.frame.DataFrame'>\n",
      "RangeIndex: 887379 entries, 0 to 887378\n",
      "Data columns (total 21 columns):\n",
      "id                  887379 non-null int64\n",
      "loan_amnt           887379 non-null float64\n",
      "funded_amnt         887379 non-null float64\n",
      "term                887379 non-null object\n",
      "int_rate            887379 non-null float64\n",
      "installment         887379 non-null float64\n",
      "grade               887379 non-null object\n",
      "sub_grade           887379 non-null object\n",
      "emp_length          887379 non-null object\n",
      "annual_inc          887375 non-null float64\n",
      "loan_status         887379 non-null object\n",
      "purpose             887379 non-null object\n",
      "addr_state          887379 non-null object\n",
      "dti                 887379 non-null float64\n",
      "out_prncp           887379 non-null float64\n",
      "total_pymnt         887379 non-null float64\n",
      "application_type    887379 non-null object\n",
      "annual_inc_joint    511 non-null float64\n",
      "dti_joint           509 non-null float64\n",
      "tot_cur_bal         817103 non-null float64\n",
      "default             887379 non-null int64\n",
      "dtypes: float64(11), int64(2), object(8)\n",
      "memory usage: 142.2+ MB\n"
     ]
    }
   ],
   "source": [
    "df.ix[:,0:21].info()"
   ]
  },
  {
   "cell_type": "markdown",
   "metadata": {},
   "source": [
    "# Section 2: Cleaning the data"
   ]
  },
  {
   "cell_type": "markdown",
   "metadata": {},
   "source": [
    "### Boolean default variable"
   ]
  },
  {
   "cell_type": "code",
   "execution_count": 211,
   "metadata": {
    "collapsed": false
   },
   "outputs": [
    {
     "data": {
      "text/plain": [
       "array(['credit_card', 'car', 'small_business', 'other', 'wedding',\n",
       "       'debt_consolidation', 'home_improvement', 'major_purchase',\n",
       "       'medical', 'moving', 'vacation', 'house', 'renewable_energy',\n",
       "       'educational'], dtype=object)"
      ]
     },
     "execution_count": 211,
     "metadata": {},
     "output_type": "execute_result"
    }
   ],
   "source": [
    "df.purpose.unique()"
   ]
  },
  {
   "cell_type": "code",
   "execution_count": 210,
   "metadata": {
    "collapsed": false
   },
   "outputs": [
    {
     "data": {
      "text/plain": [
       "array(['Fully Paid', 'Charged Off', 'Current', 'Default',\n",
       "       'Late (31-120 days)', 'In Grace Period', 'Late (16-30 days)',\n",
       "       'Does not meet the credit policy. Status:Fully Paid',\n",
       "       'Does not meet the credit policy. Status:Charged Off', 'Issued'], dtype=object)"
      ]
     },
     "execution_count": 210,
     "metadata": {},
     "output_type": "execute_result"
    }
   ],
   "source": [
    "df.loan_status.unique()"
   ]
  },
  {
   "cell_type": "code",
   "execution_count": 5,
   "metadata": {
    "collapsed": true
   },
   "outputs": [],
   "source": [
    "#map the statuses to boolean variable\n",
    "mapper = {'Fully Paid':0, 'Charged Off':1, 'Current':0, 'Default':1,\n",
    "       'Late (31-120 days)':1, 'In Grace Period':0, 'Late (16-30 days)':1,\n",
    "       'Does not meet the credit policy. Status:Fully Paid':0,\n",
    "       'Does not meet the credit policy. Status:Charged Off':1, 'Issued':0}"
   ]
  },
  {
   "cell_type": "code",
   "execution_count": 6,
   "metadata": {
    "collapsed": false
   },
   "outputs": [],
   "source": [
    "#simplify loan status categories\n",
    "df['default'] = df.loan_status\n",
    "df = df.replace({\"default\":mapper})\n"
   ]
  },
  {
   "cell_type": "markdown",
   "metadata": {},
   "source": [
    "### Removing credit score outliers"
   ]
  },
  {
   "cell_type": "code",
   "execution_count": 215,
   "metadata": {
    "collapsed": false
   },
   "outputs": [
    {
     "data": {
      "text/plain": [
       "<matplotlib.axes._subplots.AxesSubplot at 0x118b77510>"
      ]
     },
     "execution_count": 215,
     "metadata": {},
     "output_type": "execute_result"
    },
    {
     "data": {
      "image/png": "[encoded data removed]",
      "text/plain": [
       "<matplotlib.figure.Figure at 0x1297351d0>"
      ]
     },
     "metadata": {},
     "output_type": "display_data"
    }
   ],
   "source": [
    "df2.dti.plot(kind='density')"
   ]
  },
  {
   "cell_type": "code",
   "execution_count": 220,
   "metadata": {
    "collapsed": true
   },
   "outputs": [],
   "source": [
    "ceiling = df.dti.mean() + df.dti.std() * 2.576\n",
    "df.ix[df.dti > ceiling, 'dti'] = ceiling"
   ]
  },
  {
   "cell_type": "code",
   "execution_count": 219,
   "metadata": {
    "collapsed": false
   },
   "outputs": [
    {
     "data": {
      "text/plain": [
       "<matplotlib.axes._subplots.AxesSubplot at 0x13cfb8710>"
      ]
     },
     "execution_count": 219,
     "metadata": {},
     "output_type": "execute_result"
    },
    {
     "data": {
      "image/png": "[encoded data removed]",
      "text/plain": [
       "<matplotlib.figure.Figure at 0x13aaa0a50>"
      ]
     },
     "metadata": {},
     "output_type": "display_data"
    }
   ],
   "source": [
    "df.dti.plot(kind='density')"
   ]
  },
  {
   "cell_type": "markdown",
   "metadata": {
    "collapsed": true
   },
   "source": [
    "# Section 3: data exploration of default rates"
   ]
  },
  {
   "cell_type": "code",
   "execution_count": 214,
   "metadata": {
    "collapsed": false
   },
   "outputs": [
    {
     "data": {
      "text/plain": [
       "0.06894010338310913"
      ]
     },
     "execution_count": 214,
     "metadata": {},
     "output_type": "execute_result"
    }
   ],
   "source": [
    "df.default.mean()"
   ]
  },
  {
   "cell_type": "code",
   "execution_count": 9,
   "metadata": {
    "collapsed": false
   },
   "outputs": [],
   "source": [
    "def summation(x):\n",
    "    groupby1 = df.groupby(df[x]).default.sum()\n",
    "\n",
    "    groupby1 = groupby1.to_frame(name=\"sum\")\n",
    "    groupby2 = df.groupby(df[x]).default.count()\n",
    "    groupby2 = groupby2.to_frame(name=\"count\")\n",
    "    groupby1['count'] = groupby2['count']\n",
    "    groupby1['pct'] = groupby1['sum'] / groupby1['count']\n",
    "\n",
    "    sns.set_style(\"whitegrid\")\n",
    "    ax = sns.factorplot(y = 'pct', x = groupby1.index, data=groupby1,size=15,kind='bar')\n",
    "    ax.set(xlabel = '', ylabel = '', title = x)\n",
    "    "
   ]
  },
  {
   "cell_type": "code",
   "execution_count": 10,
   "metadata": {
    "collapsed": false
   },
   "outputs": [
    {
     "data": {
      "image/png": "[encoded data removed]",
      "text/plain": [
       "<matplotlib.figure.Figure at 0x146f26090>"
      ]
     },
     "metadata": {},
     "output_type": "display_data"
    }
   ],
   "source": [
    "summation('grade')"
   ]
  },
  {
   "cell_type": "code",
   "execution_count": 11,
   "metadata": {
    "collapsed": false
   },
   "outputs": [
    {
     "data": {
      "image/png": "[encoded data removed]",
      "text/plain": [
       "<matplotlib.figure.Figure at 0x11b40e790>"
      ]
     },
     "metadata": {},
     "output_type": "display_data"
    }
   ],
   "source": [
    "summation('addr_state')"
   ]
  },
  {
   "cell_type": "code",
   "execution_count": 213,
   "metadata": {
    "collapsed": false
   },
   "outputs": [
    {
     "data": {
      "image/png": "[encoded data removed]",
      "text/plain": [
       "<matplotlib.figure.Figure at 0x13d010590>"
      ]
     },
     "metadata": {},
     "output_type": "display_data"
    }
   ],
   "source": [
    "summation('purpose')"
   ]
  },
  {
   "cell_type": "markdown",
   "metadata": {},
   "source": [
    "# Section 4: Building Models"
   ]
  },
  {
   "cell_type": "markdown",
   "metadata": {},
   "source": [
    "### Building a logistic regression"
   ]
  },
  {
   "cell_type": "code",
   "execution_count": 16,
   "metadata": {
    "collapsed": false
   },
   "outputs": [
    {
     "data": {
      "text/plain": [
       "Index([u'id', u'loan_amnt', u'funded_amnt', u'term', u'int_rate',\n",
       "       u'installment', u'grade', u'sub_grade', u'emp_length', u'annual_inc',\n",
       "       u'loan_status', u'purpose', u'addr_state', u'dti', u'out_prncp',\n",
       "       u'total_pymnt', u'application_type', u'annual_inc_joint', u'dti_joint',\n",
       "       u'tot_cur_bal', u'default', u'grade_A', u'grade_B', u'grade_C',\n",
       "       u'grade_D', u'grade_E', u'grade_F', u'grade_G', u'intercept'],\n",
       "      dtype='object')"
      ]
     },
     "execution_count": 16,
     "metadata": {},
     "output_type": "execute_result"
    }
   ],
   "source": [
    "df = df.join(pd.get_dummies(df.grade, prefix=\"grade\"))\n",
    "df['intercept'] = 1.0\n",
    "df.columns"
   ]
  },
  {
   "cell_type": "code",
   "execution_count": 20,
   "metadata": {
    "collapsed": false
   },
   "outputs": [
    {
     "name": "stdout",
     "output_type": "stream",
     "text": [
      "Optimization terminated successfully.\n",
      "         Current function value: 0.234710\n",
      "         Iterations 8\n"
     ]
    }
   ],
   "source": [
    "test_columns = ['dti', 'grade_B', 'grade_C',\n",
    "               'grade_D', 'grade_E', 'grade_F', 'grade_G', 'int_rate', 'intercept']\n",
    "df_test = df[test_columns]\n",
    "\n",
    "lm = sm.Logit(df['default'], df_test)\n",
    "lm_result = lm.fit()"
   ]
  },
  {
   "cell_type": "code",
   "execution_count": 21,
   "metadata": {
    "collapsed": false
   },
   "outputs": [
    {
     "name": "stdout",
     "output_type": "stream",
     "text": [
      "                           Logit Regression Results                           \n",
      "==============================================================================\n",
      "Dep. Variable:                default   No. Observations:               887379\n",
      "Model:                          Logit   Df Residuals:                   887370\n",
      "Method:                           MLE   Df Model:                            8\n",
      "Date:                Tue, 23 May 2017   Pseudo R-squ.:                 0.06449\n",
      "Time:                        19:45:30   Log-Likelihood:            -2.0828e+05\n",
      "converged:                       True   LL-Null:                   -2.2263e+05\n",
      "                                        LLR p-value:                     0.000\n",
      "==============================================================================\n",
      "                 coef    std err          z      P>|z|      [95.0% Conf. Int.]\n",
      "------------------------------------------------------------------------------\n",
      "dti           -0.0016      0.001     -3.129      0.002        -0.003    -0.001\n",
      "grade_B       -0.4616      0.024    -19.447      0.000        -0.508    -0.415\n",
      "grade_C       -1.0912      0.030    -36.543      0.000        -1.150    -1.033\n",
      "grade_D       -1.7247      0.039    -44.762      0.000        -1.800    -1.649\n",
      "grade_E       -2.4500      0.047    -51.680      0.000        -2.543    -2.357\n",
      "grade_F       -3.2775      0.060    -55.015      0.000        -3.394    -3.161\n",
      "grade_G       -3.7461      0.072    -51.977      0.000        -3.887    -3.605\n",
      "int_rate       0.3360      0.003    102.354      0.000         0.330     0.342\n",
      "intercept     -6.2416      0.032   -197.377      0.000        -6.304    -6.180\n",
      "==============================================================================\n"
     ]
    }
   ],
   "source": [
    "print lm_result.summary()\n"
   ]
  },
  {
   "cell_type": "code",
   "execution_count": 22,
   "metadata": {
    "collapsed": false
   },
   "outputs": [
    {
     "data": {
      "text/html": [
       "<div>\n",
       "<table border=\"1\" class=\"dataframe\">\n",
       "  <thead>\n",
       "    <tr style=\"text-align: right;\">\n",
       "      <th></th>\n",
       "      <th>2.5%</th>\n",
       "      <th>97.5%</th>\n",
       "      <th>OR</th>\n",
       "    </tr>\n",
       "  </thead>\n",
       "  <tbody>\n",
       "    <tr>\n",
       "      <th>dti</th>\n",
       "      <td>0.997377</td>\n",
       "      <td>0.999397</td>\n",
       "      <td>0.998386</td>\n",
       "    </tr>\n",
       "    <tr>\n",
       "      <th>grade_B</th>\n",
       "      <td>0.601608</td>\n",
       "      <td>0.660274</td>\n",
       "      <td>0.630259</td>\n",
       "    </tr>\n",
       "    <tr>\n",
       "      <th>grade_C</th>\n",
       "      <td>0.316736</td>\n",
       "      <td>0.356066</td>\n",
       "      <td>0.335826</td>\n",
       "    </tr>\n",
       "    <tr>\n",
       "      <th>grade_D</th>\n",
       "      <td>0.165257</td>\n",
       "      <td>0.192201</td>\n",
       "      <td>0.178220</td>\n",
       "    </tr>\n",
       "    <tr>\n",
       "      <th>grade_E</th>\n",
       "      <td>0.078636</td>\n",
       "      <td>0.094695</td>\n",
       "      <td>0.086293</td>\n",
       "    </tr>\n",
       "    <tr>\n",
       "      <th>grade_F</th>\n",
       "      <td>0.033564</td>\n",
       "      <td>0.042393</td>\n",
       "      <td>0.037721</td>\n",
       "    </tr>\n",
       "    <tr>\n",
       "      <th>grade_G</th>\n",
       "      <td>0.020500</td>\n",
       "      <td>0.027192</td>\n",
       "      <td>0.023610</td>\n",
       "    </tr>\n",
       "    <tr>\n",
       "      <th>int_rate</th>\n",
       "      <td>1.390412</td>\n",
       "      <td>1.408421</td>\n",
       "      <td>1.399388</td>\n",
       "    </tr>\n",
       "    <tr>\n",
       "      <th>intercept</th>\n",
       "      <td>0.001830</td>\n",
       "      <td>0.002071</td>\n",
       "      <td>0.001947</td>\n",
       "    </tr>\n",
       "  </tbody>\n",
       "</table>\n",
       "</div>"
      ],
      "text/plain": [
       "               2.5%     97.5%        OR\n",
       "dti        0.997377  0.999397  0.998386\n",
       "grade_B    0.601608  0.660274  0.630259\n",
       "grade_C    0.316736  0.356066  0.335826\n",
       "grade_D    0.165257  0.192201  0.178220\n",
       "grade_E    0.078636  0.094695  0.086293\n",
       "grade_F    0.033564  0.042393  0.037721\n",
       "grade_G    0.020500  0.027192  0.023610\n",
       "int_rate   1.390412  1.408421  1.399388\n",
       "intercept  0.001830  0.002071  0.001947"
      ]
     },
     "execution_count": 22,
     "metadata": {},
     "output_type": "execute_result"
    }
   ],
   "source": [
    "conf = lm_result.conf_int()\n",
    "conf['OR'] = lm_result.params\n",
    "conf.columns = ['2.5%', '97.5%', 'OR']\n",
    "np.exp(conf)"
   ]
  },
  {
   "cell_type": "markdown",
   "metadata": {},
   "source": [
    "## Using grid search and cross validation"
   ]
  },
  {
   "cell_type": "code",
   "execution_count": 174,
   "metadata": {
    "collapsed": false
   },
   "outputs": [
    {
     "data": {
      "text/plain": [
       "[mean: 0.68277, std: 0.04322, params: {'C': 1},\n",
       " mean: 0.68257, std: 0.04350, params: {'C': 50},\n",
       " mean: 0.68254, std: 0.04351, params: {'C': 100}]"
      ]
     },
     "execution_count": 174,
     "metadata": {},
     "output_type": "execute_result"
    }
   ],
   "source": [
    "from sklearn import grid_search, cross_validation\n",
    "\n",
    "gs = grid_search.GridSearchCV(\n",
    "    estimator=LogisticRegression(),\n",
    "    param_grid={'C': [1, 50, 100]},\n",
    "    cv=cross_validation.KFold(n=len(df_test), n_folds=5),\n",
    "    scoring='roc_auc'\n",
    ")\n",
    "\n",
    "gs.fit(df_test, df['default'])\n",
    "gs.grid_scores_"
   ]
  },
  {
   "cell_type": "code",
   "execution_count": 44,
   "metadata": {
    "collapsed": false
   },
   "outputs": [
    {
     "data": {
      "text/plain": [
       "[<matplotlib.lines.Line2D at 0x11b6f0550>]"
      ]
     },
     "execution_count": 44,
     "metadata": {},
     "output_type": "execute_result"
    },
    {
     "data": {
      "image/png": "[encoded data removed]",
      "text/plain": [
       "<matplotlib.figure.Figure at 0x11c30dc90>"
      ]
     },
     "metadata": {},
     "output_type": "display_data"
    }
   ],
   "source": [
    "predictions_logistic = gs.best_estimator_.predict(df[test_columns])\n",
    "\n",
    "probas_logistic = gs.best_estimator_.predict_proba(df[test_columns])\n",
    "\n",
    "pyplt.plot(roc_curve(df[['default']], probas_logistic[:,1])[0], roc_curve(df[['default']], probas_logistic[:,1])[1])"
   ]
  },
  {
   "cell_type": "code",
   "execution_count": 45,
   "metadata": {
    "collapsed": false
   },
   "outputs": [
    {
     "name": "stdout",
     "output_type": "stream",
     "text": [
      "             precision    recall  f1-score   support\n",
      "\n",
      "    current       0.93      1.00      0.96    826203\n",
      "    default       0.00      0.00      0.00     61176\n",
      "\n",
      "avg / total       0.87      0.93      0.90    887379\n",
      "\n"
     ]
    }
   ],
   "source": [
    "print classification_report(df['default'], predictions_logistic, target_names=['current', 'default'])"
   ]
  },
  {
   "cell_type": "markdown",
   "metadata": {},
   "source": [
    "## Building a random forest model, with grid search and CV"
   ]
  },
  {
   "cell_type": "code",
   "execution_count": 175,
   "metadata": {
    "collapsed": false
   },
   "outputs": [
    {
     "data": {
      "text/plain": [
       "[mean: 0.55353, std: 0.00535, params: {'n_estimators': 20},\n",
       " mean: 0.56909, std: 0.00617, params: {'n_estimators': 100}]"
      ]
     },
     "execution_count": 175,
     "metadata": {},
     "output_type": "execute_result"
    }
   ],
   "source": [
    "#random forest\n",
    "from sklearn.ensemble import RandomForestClassifier\n",
    "\n",
    "gs = grid_search.GridSearchCV(\n",
    "    estimator=RandomForestClassifier(),\n",
    "    param_grid={'n_estimators': [20, 100]},\n",
    "    cv=cross_validation.KFold(n=len(df_test), n_folds=5),\n",
    "    scoring='roc_auc'\n",
    ")\n",
    "\n",
    "gs.fit(df_test, df['default'])\n",
    "gs.grid_scores_"
   ]
  },
  {
   "cell_type": "code",
   "execution_count": 118,
   "metadata": {
    "collapsed": false
   },
   "outputs": [
    {
     "data": {
      "text/plain": [
       "[<matplotlib.lines.Line2D at 0x116cb5450>]"
      ]
     },
     "execution_count": 118,
     "metadata": {},
     "output_type": "execute_result"
    },
    {
     "data": {
      "image/png": "[encoded data removed]",
      "text/plain": [
       "<matplotlib.figure.Figure at 0x117504f90>"
      ]
     },
     "metadata": {},
     "output_type": "display_data"
    }
   ],
   "source": [
    "predictions_rf = gs.best_estimator_.predict(df[test_columns])\n",
    "\n",
    "probas_rf = gs.best_estimator_.predict_proba(df[test_columns])\n",
    "\n",
    "pyplt.plot(roc_curve(df[['default']], probas_rf[:,1])[0], roc_curve(df[['default']], probas_rf[:,1])[1])"
   ]
  },
  {
   "cell_type": "code",
   "execution_count": 119,
   "metadata": {
    "collapsed": false
   },
   "outputs": [
    {
     "name": "stdout",
     "output_type": "stream",
     "text": [
      "             precision    recall  f1-score   support\n",
      "\n",
      "    current       0.96      0.99      0.98    826203\n",
      "    default       0.85      0.45      0.59     61176\n",
      "\n",
      "avg / total       0.95      0.96      0.95    887379\n",
      "\n"
     ]
    }
   ],
   "source": [
    "print classification_report(df['default'], predictions_rf, target_names=['current', 'default'])"
   ]
  },
  {
   "cell_type": "markdown",
   "metadata": {},
   "source": [
    "## Comparing the model default predictions"
   ]
  },
  {
   "cell_type": "code",
   "execution_count": 130,
   "metadata": {
    "collapsed": false
   },
   "outputs": [],
   "source": [
    "#add columns to the dataframe\n",
    "df['rf_probas'] = probas_rf[:,1]\n",
    "df['logistic_probas'] = probas_logistic[:,1]"
   ]
  },
  {
   "cell_type": "code",
   "execution_count": 173,
   "metadata": {
    "collapsed": false
   },
   "outputs": [],
   "source": [
    "groupby_log = df.groupby(df.grade)['logistic_probas'].mean()\n",
    "groupby_rf = df.groupby(df.grade)['rf_probas'].mean()\n",
    "\n",
    "prob_means = groupby_log.to_frame(name=\"log\")\n",
    "prob_means['rf'] = groupby_rf.to_frame(name=\"rf\")\n"
   ]
  },
  {
   "cell_type": "code",
   "execution_count": 187,
   "metadata": {
    "collapsed": false
   },
   "outputs": [
    {
     "data": {
      "image/png": "[encoded data removed]",
      "text/plain": [
       "<matplotlib.figure.Figure at 0x11a145f50>"
      ]
     },
     "metadata": {},
     "output_type": "display_data"
    }
   ],
   "source": [
    "import matplotlib.pyplot as plt\n",
    "\n",
    "n_groups = len(prob_means)\n",
    "\n",
    "log = prob_means.log\n",
    "\n",
    "rf = prob_means.rf\n",
    "\n",
    "fig, ax = plt.subplots(figsize=(10,8))\n",
    "\n",
    "index = np.arange(n_groups)\n",
    "bar_width = 0.35\n",
    "\n",
    "opacity = 0.8\n",
    "\n",
    "rects1 = plt.bar(index, log, bar_width,\n",
    "                 alpha=opacity,\n",
    "                 color='b',\n",
    "                 label='Gross')\n",
    "\n",
    "rects2 = plt.bar(index + bar_width, rf, bar_width,\n",
    "                 alpha=opacity,\n",
    "                 color='r',\n",
    "                 label='Net')\n",
    "\n",
    "plt.xlabel('Grade')\n",
    "plt.ylabel('Mean Proba')\n",
    "plt.title('Comparing default probabilities across models')\n",
    "plt.xticks(index + bar_width / 2, ('A', 'B', 'C', 'D', 'E', 'F', 'G'))\n",
    "plt.legend()\n",
    "\n",
    "plt.tight_layout()\n",
    "plt.show()"
   ]
  },
  {
   "cell_type": "markdown",
   "metadata": {},
   "source": [
    "# Section 5: But should I invest in Lending Club loans?"
   ]
  },
  {
   "cell_type": "code",
   "execution_count": 166,
   "metadata": {
    "collapsed": false
   },
   "outputs": [
    {
     "name": "stderr",
     "output_type": "stream",
     "text": [
      "/anaconda/lib/python2.7/site-packages/ipykernel/__main__.py:14: FutureWarning: sort(columns=....) is deprecated, use sort_values(by=.....)\n"
     ]
    },
    {
     "data": {
      "text/html": [
       "<div>\n",
       "<table border=\"1\" class=\"dataframe\">\n",
       "  <thead>\n",
       "    <tr style=\"text-align: right;\">\n",
       "      <th></th>\n",
       "      <th>grade</th>\n",
       "      <th>gross_int_rate</th>\n",
       "      <th>perc_default</th>\n",
       "      <th>net_return</th>\n",
       "    </tr>\n",
       "  </thead>\n",
       "  <tbody>\n",
       "    <tr>\n",
       "      <th>3</th>\n",
       "      <td>A</td>\n",
       "      <td>7.24331</td>\n",
       "      <td>0.0222534</td>\n",
       "      <td>5.01797</td>\n",
       "    </tr>\n",
       "    <tr>\n",
       "      <th>1</th>\n",
       "      <td>B</td>\n",
       "      <td>10.8296</td>\n",
       "      <td>0.0479934</td>\n",
       "      <td>6.03028</td>\n",
       "    </tr>\n",
       "    <tr>\n",
       "      <th>2</th>\n",
       "      <td>C</td>\n",
       "      <td>13.9801</td>\n",
       "      <td>0.0698243</td>\n",
       "      <td>6.99767</td>\n",
       "    </tr>\n",
       "    <tr>\n",
       "      <th>6</th>\n",
       "      <td>D</td>\n",
       "      <td>17.1758</td>\n",
       "      <td>0.103582</td>\n",
       "      <td>6.81764</td>\n",
       "    </tr>\n",
       "    <tr>\n",
       "      <th>4</th>\n",
       "      <td>E</td>\n",
       "      <td>19.8973</td>\n",
       "      <td>0.124984</td>\n",
       "      <td>7.39891</td>\n",
       "    </tr>\n",
       "    <tr>\n",
       "      <th>5</th>\n",
       "      <td>F</td>\n",
       "      <td>23.5828</td>\n",
       "      <td>0.174824</td>\n",
       "      <td>6.10036</td>\n",
       "    </tr>\n",
       "    <tr>\n",
       "      <th>7</th>\n",
       "      <td>G</td>\n",
       "      <td>25.6267</td>\n",
       "      <td>0.214064</td>\n",
       "      <td>4.22026</td>\n",
       "    </tr>\n",
       "  </tbody>\n",
       "</table>\n",
       "</div>"
      ],
      "text/plain": [
       "  grade gross_int_rate perc_default net_return\n",
       "3     A        7.24331    0.0222534    5.01797\n",
       "1     B        10.8296    0.0479934    6.03028\n",
       "2     C        13.9801    0.0698243    6.99767\n",
       "6     D        17.1758     0.103582    6.81764\n",
       "4     E        19.8973     0.124984    7.39891\n",
       "5     F        23.5828     0.174824    6.10036\n",
       "7     G        25.6267     0.214064    4.22026"
      ]
     },
     "execution_count": 166,
     "metadata": {},
     "output_type": "execute_result"
    }
   ],
   "source": [
    "int_rate_table = pd.DataFrame(index=range(1,len(df.grade.unique()) + 1), columns=['grade','gross_int_rate', 'perc_default', 'net_return'])\n",
    "\n",
    "recovery = 0\n",
    "\n",
    "grades = df.grade.unique()\n",
    "\n",
    "for x in enumerate(grades):\n",
    "    int_rate_table['grade'].iloc[x[0]] = x[1]\n",
    "    int_rate_table['gross_int_rate'].iloc[x[0]] = df[(df.grade == x[1])].int_rate.sum() / len(df[(df.grade == x[1])])\n",
    "    perc_default_temp = df[(df.grade == x[1])].default.mean()\n",
    "    int_rate_table['perc_default'].iloc[x[0]] = perc_default_temp\n",
    "    int_rate_table['net_return'].iloc[x[0]] = df[(df.grade == x[1]) ].int_rate.sum() / len(df[(df.grade == x[1])]) - 100 * perc_default_temp\n",
    "\n",
    "int_rate_table = int_rate_table.sort(columns='grade')\n",
    "int_rate_table\n",
    "#look at what the net takehome would have been had you correctly avoided the loan"
   ]
  },
  {
   "cell_type": "code",
   "execution_count": 222,
   "metadata": {
    "collapsed": false
   },
   "outputs": [
    {
     "data": {
      "image/png": "[encoded data removed]",
      "text/plain": [
       "<matplotlib.figure.Figure at 0x1275e3f10>"
      ]
     },
     "metadata": {},
     "output_type": "display_data"
    },
    {
     "data": {
      "text/html": [
       "<div>\n",
       "<table border=\"1\" class=\"dataframe\">\n",
       "  <thead>\n",
       "    <tr style=\"text-align: right;\">\n",
       "      <th></th>\n",
       "      <th>grade</th>\n",
       "      <th>gross_int_rate</th>\n",
       "      <th>perc_default</th>\n",
       "      <th>net_return</th>\n",
       "    </tr>\n",
       "  </thead>\n",
       "  <tbody>\n",
       "    <tr>\n",
       "      <th>3</th>\n",
       "      <td>A</td>\n",
       "      <td>7.24331</td>\n",
       "      <td>0.0222534</td>\n",
       "      <td>5.01797</td>\n",
       "    </tr>\n",
       "    <tr>\n",
       "      <th>1</th>\n",
       "      <td>B</td>\n",
       "      <td>10.8296</td>\n",
       "      <td>0.0479934</td>\n",
       "      <td>6.03028</td>\n",
       "    </tr>\n",
       "    <tr>\n",
       "      <th>2</th>\n",
       "      <td>C</td>\n",
       "      <td>13.9801</td>\n",
       "      <td>0.0698243</td>\n",
       "      <td>6.99767</td>\n",
       "    </tr>\n",
       "    <tr>\n",
       "      <th>6</th>\n",
       "      <td>D</td>\n",
       "      <td>17.1758</td>\n",
       "      <td>0.103582</td>\n",
       "      <td>6.81764</td>\n",
       "    </tr>\n",
       "    <tr>\n",
       "      <th>4</th>\n",
       "      <td>E</td>\n",
       "      <td>19.8973</td>\n",
       "      <td>0.124984</td>\n",
       "      <td>7.39891</td>\n",
       "    </tr>\n",
       "    <tr>\n",
       "      <th>5</th>\n",
       "      <td>F</td>\n",
       "      <td>23.5828</td>\n",
       "      <td>0.174824</td>\n",
       "      <td>6.10036</td>\n",
       "    </tr>\n",
       "    <tr>\n",
       "      <th>7</th>\n",
       "      <td>G</td>\n",
       "      <td>25.6267</td>\n",
       "      <td>0.214064</td>\n",
       "      <td>4.22026</td>\n",
       "    </tr>\n",
       "  </tbody>\n",
       "</table>\n",
       "</div>"
      ],
      "text/plain": [
       "  grade gross_int_rate perc_default net_return\n",
       "3     A        7.24331    0.0222534    5.01797\n",
       "1     B        10.8296    0.0479934    6.03028\n",
       "2     C        13.9801    0.0698243    6.99767\n",
       "6     D        17.1758     0.103582    6.81764\n",
       "4     E        19.8973     0.124984    7.39891\n",
       "5     F        23.5828     0.174824    6.10036\n",
       "7     G        25.6267     0.214064    4.22026"
      ]
     },
     "execution_count": 222,
     "metadata": {},
     "output_type": "execute_result"
    }
   ],
   "source": [
    "import matplotlib.pyplot as plt\n",
    "\n",
    "n_groups = len(int_rate_table.net_return)\n",
    "\n",
    "gross_return = int_rate_table.gross_int_rate\n",
    "\n",
    "net_return = int_rate_table.net_return\n",
    "\n",
    "fig, ax = plt.subplots(figsize=(10,8))\n",
    "\n",
    "index = np.arange(n_groups)\n",
    "bar_width = 0.35\n",
    "\n",
    "opacity = 0.8\n",
    "\n",
    "rects1 = plt.bar(index, gross_return, bar_width,\n",
    "                 alpha=opacity,\n",
    "                 color='b',\n",
    "                 label='Gross')\n",
    "\n",
    "rects2 = plt.bar(index + bar_width, net_return, bar_width,\n",
    "                 alpha=opacity,\n",
    "                 color='r',\n",
    "                 label='Net')\n",
    "\n",
    "plt.xlabel('Grade')\n",
    "plt.ylabel('Net return %')\n",
    "plt.title('Comparing gross and net return by grade')\n",
    "plt.xticks(index + bar_width / 2, ('A', 'B', 'C', 'D', 'E', 'F', 'G'))\n",
    "plt.legend()\n",
    "\n",
    "plt.tight_layout()\n",
    "plt.show()\n",
    "int_rate_table"
   ]
  },
  {
   "cell_type": "markdown",
   "metadata": {},
   "source": [
    "# Do the predictive models help avoid defaults?"
   ]
  },
  {
   "cell_type": "markdown",
   "metadata": {},
   "source": [
    "### Logistic regression"
   ]
  },
  {
   "cell_type": "code",
   "execution_count": 111,
   "metadata": {
    "collapsed": false
   },
   "outputs": [
    {
     "name": "stderr",
     "output_type": "stream",
     "text": [
      "/anaconda/lib/python2.7/site-packages/ipykernel/__main__.py:13: FutureWarning: sort(columns=....) is deprecated, use sort_values(by=.....)\n"
     ]
    },
    {
     "data": {
      "text/html": [
       "<div>\n",
       "<table border=\"1\" class=\"dataframe\">\n",
       "  <thead>\n",
       "    <tr style=\"text-align: right;\">\n",
       "      <th></th>\n",
       "      <th>grade</th>\n",
       "      <th>gross_int_rate</th>\n",
       "      <th>perc_default</th>\n",
       "      <th>net_return</th>\n",
       "      <th>improvement</th>\n",
       "    </tr>\n",
       "  </thead>\n",
       "  <tbody>\n",
       "    <tr>\n",
       "      <th>3</th>\n",
       "      <td>A</td>\n",
       "      <td>7.10609</td>\n",
       "      <td>0.0193773</td>\n",
       "      <td>5.16836</td>\n",
       "      <td>0.150385</td>\n",
       "    </tr>\n",
       "    <tr>\n",
       "      <th>1</th>\n",
       "      <td>B</td>\n",
       "      <td>10.719</td>\n",
       "      <td>0.0451844</td>\n",
       "      <td>6.20056</td>\n",
       "      <td>0.170284</td>\n",
       "    </tr>\n",
       "    <tr>\n",
       "      <th>2</th>\n",
       "      <td>C</td>\n",
       "      <td>13.7977</td>\n",
       "      <td>0.0634753</td>\n",
       "      <td>7.4502</td>\n",
       "      <td>0.452531</td>\n",
       "    </tr>\n",
       "    <tr>\n",
       "      <th>6</th>\n",
       "      <td>D</td>\n",
       "      <td>17.0224</td>\n",
       "      <td>0.0987597</td>\n",
       "      <td>7.14644</td>\n",
       "      <td>0.328795</td>\n",
       "    </tr>\n",
       "    <tr>\n",
       "      <th>4</th>\n",
       "      <td>E</td>\n",
       "      <td>19.7425</td>\n",
       "      <td>0.119157</td>\n",
       "      <td>7.82682</td>\n",
       "      <td>0.427909</td>\n",
       "    </tr>\n",
       "    <tr>\n",
       "      <th>5</th>\n",
       "      <td>F</td>\n",
       "      <td>23.5286</td>\n",
       "      <td>0.177796</td>\n",
       "      <td>5.74906</td>\n",
       "      <td>-0.351295</td>\n",
       "    </tr>\n",
       "    <tr>\n",
       "      <th>7</th>\n",
       "      <td>G</td>\n",
       "      <td>25.4788</td>\n",
       "      <td>0.21974</td>\n",
       "      <td>3.50477</td>\n",
       "      <td>-0.715484</td>\n",
       "    </tr>\n",
       "  </tbody>\n",
       "</table>\n",
       "</div>"
      ],
      "text/plain": [
       "  grade gross_int_rate perc_default net_return improvement\n",
       "3     A        7.10609    0.0193773    5.16836    0.150385\n",
       "1     B         10.719    0.0451844    6.20056    0.170284\n",
       "2     C        13.7977    0.0634753     7.4502    0.452531\n",
       "6     D        17.0224    0.0987597    7.14644    0.328795\n",
       "4     E        19.7425     0.119157    7.82682    0.427909\n",
       "5     F        23.5286     0.177796    5.74906   -0.351295\n",
       "7     G        25.4788      0.21974    3.50477   -0.715484"
      ]
     },
     "execution_count": 111,
     "metadata": {},
     "output_type": "execute_result"
    }
   ],
   "source": [
    "log_int_rate_table = pd.DataFrame(index=range(1,len(df.grade.unique()) + 1), columns=['grade','gross_int_rate', 'perc_default', 'net_return'])\n",
    "\n",
    "\n",
    "for x in enumerate(grades):\n",
    "    log_int_rate_table['grade'].iloc[x[0]] = x[1]\n",
    "    ceiling = df[df.grade == x[1]].logistic_probas.mean() + df[df.grade == x[1]].logistic_probas.std() * 1.96\n",
    "    log_int_rate_table['gross_int_rate'].iloc[x[0]] = df[(df.grade == x[1]) & (df.logistic_probas < ceiling)].int_rate.mean()\n",
    "    perc_default_temp = df[(df.grade == x[1]) & (df.logistic_probas < ceiling)].default.mean()\n",
    "    log_int_rate_table['perc_default'].iloc[x[0]] = perc_default_temp\n",
    "\n",
    "log_int_rate_table['net_return'] = log_int_rate_table.gross_int_rate - (100 * log_int_rate_table.perc_default)\n",
    "    \n",
    "log_int_rate_table = log_int_rate_table.sort(columns='grade')\n",
    "log_int_rate_table['improvement'] = log_int_rate_table['net_return'] - int_rate_table['net_return']\n",
    "log_int_rate_table"
   ]
  },
  {
   "cell_type": "code",
   "execution_count": 223,
   "metadata": {
    "collapsed": false
   },
   "outputs": [
    {
     "data": {
      "image/png": "[encoded data removed]",
      "text/plain": [
       "<matplotlib.figure.Figure at 0x121bb4b50>"
      ]
     },
     "metadata": {},
     "output_type": "display_data"
    },
    {
     "data": {
      "text/html": [
       "<div>\n",
       "<table border=\"1\" class=\"dataframe\">\n",
       "  <thead>\n",
       "    <tr style=\"text-align: right;\">\n",
       "      <th></th>\n",
       "      <th>grade</th>\n",
       "      <th>gross_int_rate</th>\n",
       "      <th>perc_default</th>\n",
       "      <th>net_return</th>\n",
       "      <th>improvement</th>\n",
       "    </tr>\n",
       "  </thead>\n",
       "  <tbody>\n",
       "    <tr>\n",
       "      <th>3</th>\n",
       "      <td>A</td>\n",
       "      <td>7.10609</td>\n",
       "      <td>0.0193773</td>\n",
       "      <td>5.16836</td>\n",
       "      <td>0.150385</td>\n",
       "    </tr>\n",
       "    <tr>\n",
       "      <th>1</th>\n",
       "      <td>B</td>\n",
       "      <td>10.719</td>\n",
       "      <td>0.0451844</td>\n",
       "      <td>6.20056</td>\n",
       "      <td>0.170284</td>\n",
       "    </tr>\n",
       "    <tr>\n",
       "      <th>2</th>\n",
       "      <td>C</td>\n",
       "      <td>13.7977</td>\n",
       "      <td>0.0634753</td>\n",
       "      <td>7.4502</td>\n",
       "      <td>0.452531</td>\n",
       "    </tr>\n",
       "    <tr>\n",
       "      <th>6</th>\n",
       "      <td>D</td>\n",
       "      <td>17.0224</td>\n",
       "      <td>0.0987597</td>\n",
       "      <td>7.14644</td>\n",
       "      <td>0.328795</td>\n",
       "    </tr>\n",
       "    <tr>\n",
       "      <th>4</th>\n",
       "      <td>E</td>\n",
       "      <td>19.7425</td>\n",
       "      <td>0.119157</td>\n",
       "      <td>7.82682</td>\n",
       "      <td>0.427909</td>\n",
       "    </tr>\n",
       "    <tr>\n",
       "      <th>5</th>\n",
       "      <td>F</td>\n",
       "      <td>23.5286</td>\n",
       "      <td>0.177796</td>\n",
       "      <td>5.74906</td>\n",
       "      <td>-0.351295</td>\n",
       "    </tr>\n",
       "    <tr>\n",
       "      <th>7</th>\n",
       "      <td>G</td>\n",
       "      <td>25.4788</td>\n",
       "      <td>0.21974</td>\n",
       "      <td>3.50477</td>\n",
       "      <td>-0.715484</td>\n",
       "    </tr>\n",
       "  </tbody>\n",
       "</table>\n",
       "</div>"
      ],
      "text/plain": [
       "  grade gross_int_rate perc_default net_return improvement\n",
       "3     A        7.10609    0.0193773    5.16836    0.150385\n",
       "1     B         10.719    0.0451844    6.20056    0.170284\n",
       "2     C        13.7977    0.0634753     7.4502    0.452531\n",
       "6     D        17.0224    0.0987597    7.14644    0.328795\n",
       "4     E        19.7425     0.119157    7.82682    0.427909\n",
       "5     F        23.5286     0.177796    5.74906   -0.351295\n",
       "7     G        25.4788      0.21974    3.50477   -0.715484"
      ]
     },
     "execution_count": 223,
     "metadata": {},
     "output_type": "execute_result"
    }
   ],
   "source": [
    "n_groups = len(int_rate_table.net_return)\n",
    "\n",
    "net_return = int_rate_table.net_return\n",
    "\n",
    "log_net_return = log_int_rate_table.net_return\n",
    "\n",
    "fig, ax = plt.subplots(figsize=(10,8))\n",
    "\n",
    "index = np.arange(n_groups)\n",
    "bar_width = 0.35\n",
    "\n",
    "opacity = 0.8\n",
    "\n",
    "rects1 = plt.bar(index, net_return, bar_width,\n",
    "                 alpha=opacity,\n",
    "                 color='b',\n",
    "                 label='Original')\n",
    "\n",
    "rects2 = plt.bar(index + bar_width, log_net_return, bar_width,\n",
    "                 alpha=opacity,\n",
    "                 color='r',\n",
    "                 label='Logistic')\n",
    "\n",
    "plt.xlabel('Grade')\n",
    "plt.ylabel('Net return %')\n",
    "plt.title('Does the Logistic model improve the return profile?')\n",
    "plt.xticks(index + bar_width / 2, ('A', 'B', 'C', 'D', 'E', 'F', 'G'))\n",
    "plt.legend()\n",
    "\n",
    "plt.tight_layout()\n",
    "plt.show()\n",
    "log_int_rate_table"
   ]
  },
  {
   "cell_type": "markdown",
   "metadata": {},
   "source": [
    "### Random Forest Model"
   ]
  },
  {
   "cell_type": "code",
   "execution_count": 132,
   "metadata": {
    "collapsed": false
   },
   "outputs": [
    {
     "name": "stderr",
     "output_type": "stream",
     "text": [
      "/anaconda/lib/python2.7/site-packages/ipykernel/__main__.py:13: FutureWarning: sort(columns=....) is deprecated, use sort_values(by=.....)\n"
     ]
    },
    {
     "data": {
      "text/html": [
       "<div>\n",
       "<table border=\"1\" class=\"dataframe\">\n",
       "  <thead>\n",
       "    <tr style=\"text-align: right;\">\n",
       "      <th></th>\n",
       "      <th>grade</th>\n",
       "      <th>gross_int_rate</th>\n",
       "      <th>perc_default</th>\n",
       "      <th>net_return</th>\n",
       "      <th>improvement</th>\n",
       "    </tr>\n",
       "  </thead>\n",
       "  <tbody>\n",
       "    <tr>\n",
       "      <th>3</th>\n",
       "      <td>A</td>\n",
       "      <td>7.21685</td>\n",
       "      <td>0.00472956</td>\n",
       "      <td>6.74389</td>\n",
       "      <td>1.72592</td>\n",
       "    </tr>\n",
       "    <tr>\n",
       "      <th>1</th>\n",
       "      <td>B</td>\n",
       "      <td>10.7673</td>\n",
       "      <td>0.0197988</td>\n",
       "      <td>8.78739</td>\n",
       "      <td>2.75711</td>\n",
       "    </tr>\n",
       "    <tr>\n",
       "      <th>2</th>\n",
       "      <td>C</td>\n",
       "      <td>13.9196</td>\n",
       "      <td>0.0326765</td>\n",
       "      <td>10.652</td>\n",
       "      <td>3.65432</td>\n",
       "    </tr>\n",
       "    <tr>\n",
       "      <th>6</th>\n",
       "      <td>D</td>\n",
       "      <td>17.1295</td>\n",
       "      <td>0.0533743</td>\n",
       "      <td>11.7921</td>\n",
       "      <td>4.97447</td>\n",
       "    </tr>\n",
       "    <tr>\n",
       "      <th>4</th>\n",
       "      <td>E</td>\n",
       "      <td>19.8514</td>\n",
       "      <td>0.0602918</td>\n",
       "      <td>13.8223</td>\n",
       "      <td>6.42334</td>\n",
       "    </tr>\n",
       "    <tr>\n",
       "      <th>5</th>\n",
       "      <td>F</td>\n",
       "      <td>23.6156</td>\n",
       "      <td>0.102107</td>\n",
       "      <td>13.4048</td>\n",
       "      <td>7.30448</td>\n",
       "    </tr>\n",
       "    <tr>\n",
       "      <th>7</th>\n",
       "      <td>G</td>\n",
       "      <td>25.7008</td>\n",
       "      <td>0.153288</td>\n",
       "      <td>10.372</td>\n",
       "      <td>6.15174</td>\n",
       "    </tr>\n",
       "  </tbody>\n",
       "</table>\n",
       "</div>"
      ],
      "text/plain": [
       "  grade gross_int_rate perc_default net_return improvement\n",
       "3     A        7.21685   0.00472956    6.74389     1.72592\n",
       "1     B        10.7673    0.0197988    8.78739     2.75711\n",
       "2     C        13.9196    0.0326765     10.652     3.65432\n",
       "6     D        17.1295    0.0533743    11.7921     4.97447\n",
       "4     E        19.8514    0.0602918    13.8223     6.42334\n",
       "5     F        23.6156     0.102107    13.4048     7.30448\n",
       "7     G        25.7008     0.153288     10.372     6.15174"
      ]
     },
     "execution_count": 132,
     "metadata": {},
     "output_type": "execute_result"
    }
   ],
   "source": [
    "rf_int_rate_table = pd.DataFrame(index=range(1,len(df.grade.unique()) + 1), columns=['grade','gross_int_rate', 'perc_default', 'net_return'])\n",
    "\n",
    "\n",
    "for x in enumerate(grades):\n",
    "    rf_int_rate_table['grade'].iloc[x[0]] = x[1]\n",
    "    ceiling = df[df.grade == x[1]].rf_probas.mean() + df[df.grade == x[1]].rf_probas.std() * 1.96\n",
    "    rf_int_rate_table['gross_int_rate'].iloc[x[0]] = df[(df.grade == x[1]) & (df.rf_probas < ceiling)].int_rate.mean()\n",
    "    perc_default_temp = df[(df.grade == x[1]) & (df.rf_probas < ceiling)].default.mean()\n",
    "    rf_int_rate_table['perc_default'].iloc[x[0]] = perc_default_temp\n",
    "\n",
    "rf_int_rate_table['net_return'] = rf_int_rate_table.gross_int_rate - (100 * rf_int_rate_table.perc_default)\n",
    "    \n",
    "rf_int_rate_table = rf_int_rate_table.sort(columns='grade')\n",
    "rf_int_rate_table['improvement'] = rf_int_rate_table['net_return'] - int_rate_table['net_return']\n",
    "rf_int_rate_table"
   ]
  },
  {
   "cell_type": "code",
   "execution_count": 224,
   "metadata": {
    "collapsed": false
   },
   "outputs": [
    {
     "data": {
      "image/png": "[encoded data removed]",
      "text/plain": [
       "<matplotlib.figure.Figure at 0x122829410>"
      ]
     },
     "metadata": {},
     "output_type": "display_data"
    },
    {
     "data": {
      "text/html": [
       "<div>\n",
       "<table border=\"1\" class=\"dataframe\">\n",
       "  <thead>\n",
       "    <tr style=\"text-align: right;\">\n",
       "      <th></th>\n",
       "      <th>grade</th>\n",
       "      <th>gross_int_rate</th>\n",
       "      <th>perc_default</th>\n",
       "      <th>net_return</th>\n",
       "      <th>improvement</th>\n",
       "    </tr>\n",
       "  </thead>\n",
       "  <tbody>\n",
       "    <tr>\n",
       "      <th>3</th>\n",
       "      <td>A</td>\n",
       "      <td>7.21685</td>\n",
       "      <td>0.00472956</td>\n",
       "      <td>6.74389</td>\n",
       "      <td>1.72592</td>\n",
       "    </tr>\n",
       "    <tr>\n",
       "      <th>1</th>\n",
       "      <td>B</td>\n",
       "      <td>10.7673</td>\n",
       "      <td>0.0197988</td>\n",
       "      <td>8.78739</td>\n",
       "      <td>2.75711</td>\n",
       "    </tr>\n",
       "    <tr>\n",
       "      <th>2</th>\n",
       "      <td>C</td>\n",
       "      <td>13.9196</td>\n",
       "      <td>0.0326765</td>\n",
       "      <td>10.652</td>\n",
       "      <td>3.65432</td>\n",
       "    </tr>\n",
       "    <tr>\n",
       "      <th>6</th>\n",
       "      <td>D</td>\n",
       "      <td>17.1295</td>\n",
       "      <td>0.0533743</td>\n",
       "      <td>11.7921</td>\n",
       "      <td>4.97447</td>\n",
       "    </tr>\n",
       "    <tr>\n",
       "      <th>4</th>\n",
       "      <td>E</td>\n",
       "      <td>19.8514</td>\n",
       "      <td>0.0602918</td>\n",
       "      <td>13.8223</td>\n",
       "      <td>6.42334</td>\n",
       "    </tr>\n",
       "    <tr>\n",
       "      <th>5</th>\n",
       "      <td>F</td>\n",
       "      <td>23.6156</td>\n",
       "      <td>0.102107</td>\n",
       "      <td>13.4048</td>\n",
       "      <td>7.30448</td>\n",
       "    </tr>\n",
       "    <tr>\n",
       "      <th>7</th>\n",
       "      <td>G</td>\n",
       "      <td>25.7008</td>\n",
       "      <td>0.153288</td>\n",
       "      <td>10.372</td>\n",
       "      <td>6.15174</td>\n",
       "    </tr>\n",
       "  </tbody>\n",
       "</table>\n",
       "</div>"
      ],
      "text/plain": [
       "  grade gross_int_rate perc_default net_return improvement\n",
       "3     A        7.21685   0.00472956    6.74389     1.72592\n",
       "1     B        10.7673    0.0197988    8.78739     2.75711\n",
       "2     C        13.9196    0.0326765     10.652     3.65432\n",
       "6     D        17.1295    0.0533743    11.7921     4.97447\n",
       "4     E        19.8514    0.0602918    13.8223     6.42334\n",
       "5     F        23.6156     0.102107    13.4048     7.30448\n",
       "7     G        25.7008     0.153288     10.372     6.15174"
      ]
     },
     "execution_count": 224,
     "metadata": {},
     "output_type": "execute_result"
    }
   ],
   "source": [
    "n_groups = len(int_rate_table.net_return)\n",
    "\n",
    "net_return = int_rate_table.net_return\n",
    "\n",
    "rf_net_return = rf_int_rate_table.net_return\n",
    "\n",
    "fig, ax = plt.subplots(figsize=(10,8))\n",
    "\n",
    "index = np.arange(n_groups)\n",
    "bar_width = 0.35\n",
    "\n",
    "opacity = 0.8\n",
    "\n",
    "rects1 = plt.bar(index, net_return, bar_width,\n",
    "                 alpha=opacity,\n",
    "                 color='b',\n",
    "                 label='Original')\n",
    "\n",
    "rects2 = plt.bar(index + bar_width, rf_net_return, bar_width,\n",
    "                 alpha=opacity,\n",
    "                 color='r',\n",
    "                 label='RForest')\n",
    "\n",
    "plt.xlabel('Grade')\n",
    "plt.ylabel('Net return %')\n",
    "plt.title('Does the Random Forest model improve the return profile?')\n",
    "plt.xticks(index + bar_width / 2, ('A', 'B', 'C', 'D', 'E', 'F', 'G'))\n",
    "plt.legend()\n",
    "\n",
    "plt.tight_layout()\n",
    "plt.show()\n",
    "rf_int_rate_table"
   ]
  },
  {
   "cell_type": "markdown",
   "metadata": {},
   "source": [
    "## How do the two models compare?"
   ]
  },
  {
   "cell_type": "code",
   "execution_count": 191,
   "metadata": {
    "collapsed": false
   },
   "outputs": [
    {
     "data": {
      "image/png": "[encoded data removed]",
      "text/plain": [
       "<matplotlib.figure.Figure at 0x1228bef90>"
      ]
     },
     "metadata": {},
     "output_type": "display_data"
    }
   ],
   "source": [
    "import matplotlib.pyplot as plt\n",
    "\n",
    "n_groups = len(log_int_rate_table.net_return)\n",
    "\n",
    "log_net_return = log_int_rate_table.net_return\n",
    "\n",
    "\n",
    "rf_net_return = rf_int_rate_table.net_return\n",
    "\n",
    "fig, ax = plt.subplots(figsize=(10,8))\n",
    "\n",
    "index = np.arange(n_groups)\n",
    "bar_width = 0.35\n",
    "\n",
    "opacity = 0.8\n",
    "\n",
    "rects1 = plt.bar(index, log_net_return, bar_width,\n",
    "                 alpha=opacity,\n",
    "                 color='b',\n",
    "                 label='Logistic')\n",
    "\n",
    "rects2 = plt.bar(index + bar_width, rf_net_return, bar_width,\n",
    "                 alpha=opacity,\n",
    "                 color='r',\n",
    "                 label='RForest')\n",
    "\n",
    "plt.xlabel('Grade')\n",
    "plt.ylabel('Net return %')\n",
    "plt.title('Which model yields a higher net return?')\n",
    "plt.xticks(index + bar_width / 2, ('A', 'B', 'C', 'D', 'E', 'F', 'G'))\n",
    "plt.legend()\n",
    "\n",
    "plt.tight_layout()\n",
    "plt.show()\n"
   ]
  },
  {
   "cell_type": "markdown",
   "metadata": {},
   "source": [
    "## Using Random Forest, which tranche should I invest in?"
   ]
  },
  {
   "cell_type": "code",
   "execution_count": 164,
   "metadata": {
    "collapsed": false
   },
   "outputs": [
    {
     "data": {
      "text/plain": [
       "<seaborn.axisgrid.FacetGrid at 0x11becc7d0>"
      ]
     },
     "execution_count": 164,
     "metadata": {},
     "output_type": "execute_result"
    },
    {
     "data": {
      "image/png": "[encoded data removed]",
      "text/plain": [
       "<matplotlib.figure.Figure at 0x11713ae10>"
      ]
     },
     "metadata": {},
     "output_type": "display_data"
    }
   ],
   "source": [
    "sns.set_style(\"whitegrid\")\n",
    "ax = sns.factorplot(y = 'net_return', x = rf_int_rate_table.grade, data=rf_int_rate_table,size=10,kind='bar')\n",
    "ax.set(xlabel = 'Grade', ylabel = 'Net return %', title = 'Return profile by tranche when using a RForest model')"
   ]
  },
  {
   "cell_type": "code",
   "execution_count": 226,
   "metadata": {
    "collapsed": false
   },
   "outputs": [
    {
     "data": {
      "text/plain": [
       "10.796354193170723"
      ]
     },
     "execution_count": 226,
     "metadata": {},
     "output_type": "execute_result"
    }
   ],
   "source": [
    "rf_int_rate_table.net_return.mean()"
   ]
  }
 ],
 "metadata": {
  "kernelspec": {
   "display_name": "Python 2",
   "language": "python",
   "name": "python2"
  },
  "language_info": {
   "codemirror_mode": {
    "name": "ipython",
    "version": 2
   },
   "file_extension": ".py",
   "mimetype": "text/x-python",
   "name": "python",
   "nbconvert_exporter": "python",
   "pygments_lexer": "ipython2",
   "version": "2.7.13"
  }
 },
 "nbformat": 4,
 "nbformat_minor": 2
}
